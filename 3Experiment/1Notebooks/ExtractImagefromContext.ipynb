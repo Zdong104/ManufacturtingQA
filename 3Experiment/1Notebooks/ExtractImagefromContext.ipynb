{
 "cells": [
  {
   "cell_type": "code",
   "execution_count": null,
   "metadata": {},
   "outputs": [],
   "source": [
    "# Load it from previous run\n",
    "\n",
    "import os\n",
    "from dotenv import load_dotenv\n",
    "import openai\n",
    "\n",
    "# Load the environment variables from the specified .env file\n",
    "dotenv_path = '/home/zihan/Desktop/Manufacturing_QA/Experimental_Code/GraphRag/.env'\n",
    "load_dotenv(dotenv_path)\n",
    "\n",
    "# Load the OpenAI API key from the environment variable\n",
    "api_key = os.getenv('GRAPHRAG_API_KEY')\n",
    "assert api_key is not None, \"OpenAI API key not found in environment variables.\"\n",
    "\n",
    "openai.api_key = api_key\n",
    "\n",
    "\n",
    "import qdrant_client\n",
    "from llama_index.core import SimpleDirectoryReader\n",
    "from llama_index.vector_stores.qdrant import QdrantVectorStore\n",
    "from llama_index.core import VectorStoreIndex, StorageContext\n",
    "from llama_index.core.indices import MultiModalVectorStoreIndex\n",
    "\n",
    "# Create a local Qdrant vector store\n",
    "client = qdrant_client.QdrantClient(path=\"qdrant_d_0\")\n",
    "\n",
    "text_store = QdrantVectorStore(\n",
    "    client=client, collection_name=\"text_collection_0\"\n",
    ")\n",
    "image_store = QdrantVectorStore(\n",
    "    client=client, collection_name=\"image_collection_0\"\n",
    ")\n",
    "storage_context = StorageContext.from_defaults(\n",
    "    vector_store=text_store, image_store=image_store, persist_dir=\"./storage\"\n",
    ")\n",
    "\n",
    "from llama_index.core import load_index_from_storage\n",
    "index = load_index_from_storage(storage_context, image_store=image_store)"
   ]
  },
  {
   "cell_type": "markdown",
   "metadata": {},
   "source": [
    "### Single Query test"
   ]
  },
  {
   "cell_type": "code",
   "execution_count": 2,
   "metadata": {},
   "outputs": [
    {
     "data": {
      "text/markdown": [
       "**Node ID:** f26e92a1-b5b5-45ac-9f85-0ee978470b5e<br>**Similarity:** 0.8617441071757059<br>**Text:** In addition, the joint must be designed to exploit the particular  strengths of adhesive bonding and avoid its limitations.  \n",
       "\n",
       "# 30.3.1  JOINT DESIGN  \n",
       "\n",
       "Adhesive joints are not generally as strong as those by welding, brazing, or solder- ing. Accordingly, consideration must be given to the design of joints that are adhe- sively bonded. The following design principles are applicable: (1) Joint contact area  should be maximized. (2) Adhesive joints are strongest in shear and tension as in  Figure 30.10(a) and (b), and joints should be designed so that the applied stresses  are of these types. (3) Adhesive bonded joints are weakest in cleavage or peeling as  in Figure 30.10(c) and (d), and adhesive bonded joints should be designed to avoid  these types of stresses.  \n",
       "\n",
       "Typical joint designs for adhesive bonding that illustrate these design principles  are presented in Figure 30.11. Some joint designs combine adhesive bonding with  other joining methods to increase strength and/or provid...<br>"
      ],
      "text/plain": [
       "<IPython.core.display.Markdown object>"
      ]
     },
     "metadata": {},
     "output_type": "display_data"
    },
    {
     "name": "stdout",
     "output_type": "stream",
     "text": [
      "----------------------------------------\n"
     ]
    },
    {
     "data": {
      "text/markdown": [
       "**Node ID:** a7cd9b74-1a9f-4ae2-83e5-b46eab16bc06<br>**Similarity:** 0.8155191923006793<br>**Text:** Bitumen, an asphalt adhesive, was used in an- cient times as a cement and mortar for construction  in Asia Minor. The Romans used pine wood tar and  beeswax to caulk their ships. Glues derived from ﬁ  sh,  stag horns, and cheese were used in the early centu- ries after Christ for assembling components of wood. In more modern times, adhesives have become  an important joining process. Plywood, which relies  on the use of adhesives to bond multiple layers of  wood, was developed around 1900. Phenol formal- dehyde was the ﬁ  rst synthetic adhesive developed,  around 1910, and its primary use was in bonding of  wood products such as plywood. During World War II,  phenolic resins were developed for adhesive bonding  of certain aircraft components. In the 1950s, epoxies  were ﬁ  rst formulated. And since the 1950s a variety  of additional adhesives have been developed, includ- ing anaerobics, various new polymers, and second- generation acrylics.  \n",
       "\n",
       "Adhesive bonding  is a joining process ...<br>"
      ],
      "text/plain": [
       "<IPython.core.display.Markdown object>"
      ]
     },
     "metadata": {},
     "output_type": "display_data"
    },
    {
     "name": "stdout",
     "output_type": "stream",
     "text": [
      "----------------------------------------\n"
     ]
    },
    {
     "data": {
      "text/markdown": [
       "**Node ID:** ddd6a88f-013a-4a89-abd2-3add3b008c4a<br>**Similarity:** 0.8022100865826698<br>**Text:** [](images/4fa9287e7e474f4387d790a053742a087536a2b5fe6d46af83a3ed15bed0f89e.jpg)  \n",
       "FIGURE 3.10  Bending of a rectangular cross section results in both tensile and compressive stresses in the  material: (1) initial loading; (2) highly stressed and strained specimen; and (3) bent part.  \n",
       "\n",
       "load. These materials do not respond well to traditional tensile testing because of  problems in preparing the test specimens and possible misalignment of the press  jaws that hold the specimen. The  bending test  (also known as the  ﬂ  exure test ) is  used to test the strength of these materials, using a setup illustrated in the ﬁ  rst  diagram in Figure 3.10. In this procedure, a specimen of rectangular cross section  is positioned between two supports, and a load is applied at its center. In this con- ﬁ  guration, the test is called a three-point bending test. A four-point conﬁ  guration  is also sometimes used. These brittle materials do not ﬂ  ex to the exaggerated ex- tent shown in Figure 3.10;...<br>"
      ],
      "text/plain": [
       "<IPython.core.display.Markdown object>"
      ]
     },
     "metadata": {},
     "output_type": "display_data"
    },
    {
     "name": "stdout",
     "output_type": "stream",
     "text": [
      "----------------------------------------\n"
     ]
    },
    {
     "data": {
      "image/png": "[encoded data removed]",
      "text/plain": [
       "<Figure size 640x480 with 3 Axes>"
      ]
     },
     "metadata": {},
     "output_type": "display_data"
    }
   ],
   "source": [
    "\"\"\"Single Query test\"\"\"\n",
    "\n",
    "\n",
    "from pathlib import Path\n",
    "from PIL import Image\n",
    "import matplotlib.pyplot as plt\n",
    "import os\n",
    "\n",
    "def plot_images(image_paths):\n",
    "    images_shown = 0\n",
    "    for img_path in image_paths:\n",
    "        if os.path.isfile(img_path):\n",
    "            image = Image.open(img_path).convert(\"RGB\")\n",
    "\n",
    "            plt.subplot(8, 8, images_shown + 1)\n",
    "            plt.imshow(image)\n",
    "            plt.xticks([])\n",
    "            plt.yticks([])\n",
    "            \n",
    "            images_shown += 1\n",
    "            if images_shown >= 64:\n",
    "                break\n",
    "\n",
    "    plt.tight_layout()\n",
    "    plt.show()\n",
    "\n",
    "\n",
    "from llama_index.core.response.notebook_utils import display_source_node\n",
    "from llama_index.core.schema import ImageNode\n",
    "test_query = \"Adhesively bonded joints are strongest under which type of stresses (pick two best answers): (a) cleavage, (b) peeling, (c) shear, and (d) tension.\"\n",
    "# generate  retrieval results\n",
    "retriever = index.as_retriever(similarity_top_k=3, image_similarity_top_k=3)\n",
    "retrieval_results = retriever.retrieve(test_query)\n",
    "\n",
    "retrieved_image = []\n",
    "for res_node in retrieval_results:\n",
    "    if isinstance(res_node.node, ImageNode):\n",
    "        retrieved_image.append(res_node.node.metadata[\"file_path\"])\n",
    "    else:\n",
    "        display_source_node(res_node, source_length=1000)\n",
    "        print(\"----\"*10)\n",
    "plot_images(retrieved_image)"
   ]
  },
  {
   "cell_type": "code",
   "execution_count": 3,
   "metadata": {},
   "outputs": [
    {
     "data": {
      "text/plain": [
       "[NodeWithScore(node=TextNode(id_='f26e92a1-b5b5-45ac-9f85-0ee978470b5e', embedding=None, metadata={'file_path': '/home/zihan/Desktop/Manufacturing_QA/BookData/FullBook_HighQuality/sec30.txt', 'file_name': 'sec30.txt', 'file_type': 'text/plain', 'file_size': 41401, 'creation_date': '2024-08-24', 'last_modified_date': '2024-08-24'}, excluded_embed_metadata_keys=['file_name', 'file_type', 'file_size', 'creation_date', 'last_modified_date', 'last_accessed_date'], excluded_llm_metadata_keys=['file_name', 'file_type', 'file_size', 'creation_date', 'last_modified_date', 'last_accessed_date'], relationships={<NodeRelationship.SOURCE: '1'>: RelatedNodeInfo(node_id='82d5254a-6ae3-4f58-b47b-358d9e4a4662', node_type=<ObjectType.DOCUMENT: '4'>, metadata={'file_path': '/home/zihan/Desktop/Manufacturing_QA/BookData/FullBook_HighQuality/sec30.txt', 'file_name': 'sec30.txt', 'file_type': 'text/plain', 'file_size': 41401, 'creation_date': '2024-08-24', 'last_modified_date': '2024-08-24'}, hash='37857da5e5bc6bf9d5c27a6c43193778baa47bb9bb9a4f6a64cee361142ebd56'), <NodeRelationship.PREVIOUS: '2'>: RelatedNodeInfo(node_id='a7cd9b74-1a9f-4ae2-83e5-b46eab16bc06', node_type=<ObjectType.TEXT: '1'>, metadata={'file_path': '/home/zihan/Desktop/Manufacturing_QA/BookData/FullBook_HighQuality/sec30.txt', 'file_name': 'sec30.txt', 'file_type': 'text/plain', 'file_size': 41401, 'creation_date': '2024-08-24', 'last_modified_date': '2024-08-24'}, hash='60ff98fe4809a54d4776d05c72ca15652898e15143e504c9fd65064526169d0b'), <NodeRelationship.NEXT: '3'>: RelatedNodeInfo(node_id='a9ccb44f-0def-4041-97a1-ecb4c41c3fdd', node_type=<ObjectType.TEXT: '1'>, metadata={}, hash='1d85f423e952859e1c65da3095aca3b609c39109615d37f339a3d7a0af8957c6')}, text='In addition, the joint must be designed to exploit the particular  strengths of adhesive bonding and avoid its limitations.  \\n\\n# 30.3.1  JOINT DESIGN  \\n\\nAdhesive joints are not generally as strong as those by welding, brazing, or solder- ing. Accordingly, consideration must be given to the design of joints that are adhe- sively bonded. The following design principles are applicable: (1) Joint contact area  should be maximized. (2) Adhesive joints are strongest in shear and tension as in  Figure 30.10(a) and (b), and joints should be designed so that the applied stresses  are of these types. (3) Adhesive bonded joints are weakest in cleavage or peeling as  in Figure 30.10(c) and (d), and adhesive bonded joints should be designed to avoid  these types of stresses.  \\n\\nTypical joint designs for adhesive bonding that illustrate these design principles  are presented in Figure 30.11. Some joint designs combine adhesive bonding with  other joining methods to increase strength and/or provide sealing between the two  components. Some of the possibilities are shown in Figure 30.12. For example, the  combination of adhesive bonding and spot welding is called  weldbonding .  \\n\\n![](images/87da55401deee2b0c207b53858e19154e609cd7e60f29bc5d433ec339f6cd7d8.jpg)  \\nFIGURE 30.10  Types of stresses that must be considered in adhesive bonded joints: (a) tension, (b) shear, (c) cleavage,  and (d) peeling.  \\n\\n![](images/9788393f5c4e9e1eaa0ea03befff42bbb7366c00fcde4516c497d28b1c4e9442.jpg)  \\nFIGURE 30.11  Some joint designs for adhesive bonding: (a) through (d) butt joints; (e) and (f) T-joints; and (g) through  (j) corner joints.  \\n\\n![](images/9786dbb422a25eb92ac37ae329d75ca2a4136b5d8e55503c8c225c004f03254b.jpg)  \\nFIGURE 30.12  Adhesive bonding combined with other joining methods: (a) weldbonding—spot welded and adhesive  bonded; (b) riveted (or bolted) and adhesive bonded; and (c) formed plus adhesive bonded.  \\n\\nIn addition to the mechanical conﬁ  guration of the joint, the application must be  selected so that the physical and chemical properties of adhesive and adherends are  compatible under the service conditions to which the assembly will be subjected.  Adherend materials include metals, ceramics, glass, plastics, wood, rubber, leather,  cloth, paper, and cardboard. Note that the list includes materials that are rigid and  ﬂ  exible, porous and nonporous, metallic and nonmetallic, and that similar or dissimi- lar substances can be bonded together.  \\n\\n# 30.3.2  ADHESIVE TYPES  \\n\\nA large number of commercial adhesives are available. They can be classiﬁ  ed into  three categories: (1) natural, (2) inorganic, and (3) synthetic.  \\n\\nNatural adhesives  are derived from natural sources (e.g., plants and animals),  including gums, starch, dextrin, soy ﬂ  our, and collagen. This category of adhesive is  generally limited to low-stress applications, such as cardboard cartons, furniture, and  bookbinding; or where large surface areas are involved (e.g., plywood).  Inorganic  adhesives  are based principally on sodium silicate and magnesium oxychloride.  Although relatively low in cost, they are also low in strength—a serious limitation in  a structural adhesive.  \\n\\nTABLE  •  30.3  Important synthetic adhesives. \\n![](images/91287c58062afaeea2f39c89df9b91a6c46d2f8107e6f5402056de3489c60705.jpg)  \\nCompiled from [8], [10], and [14].  \\n\\nSynthetic adhesives  constitute the most important category in manufacturing.  They include a variety of thermoplastic and thermosetting polymers, many of which  are listed and brieﬂ  y described in Table 30.3.', mimetype='text/plain', start_char_idx=31828, end_char_idx=35401, text_template='{metadata_str}\\n\\n{content}', metadata_template='{key}: {value}', metadata_seperator='\\n'), score=0.8617441071757059),\n",
       " NodeWithScore(node=TextNode(id_='a7cd9b74-1a9f-4ae2-83e5-b46eab16bc06', embedding=None, metadata={'file_path': '/home/zihan/Desktop/Manufacturing_QA/BookData/FullBook_HighQuality/sec30.txt', 'file_name': 'sec30.txt', 'file_type': 'text/plain', 'file_size': 41401, 'creation_date': '2024-08-24', 'last_modified_date': '2024-08-24'}, excluded_embed_metadata_keys=['file_name', 'file_type', 'file_size', 'creation_date', 'last_modified_date', 'last_accessed_date'], excluded_llm_metadata_keys=['file_name', 'file_type', 'file_size', 'creation_date', 'last_modified_date', 'last_accessed_date'], relationships={<NodeRelationship.SOURCE: '1'>: RelatedNodeInfo(node_id='82d5254a-6ae3-4f58-b47b-358d9e4a4662', node_type=<ObjectType.DOCUMENT: '4'>, metadata={'file_path': '/home/zihan/Desktop/Manufacturing_QA/BookData/FullBook_HighQuality/sec30.txt', 'file_name': 'sec30.txt', 'file_type': 'text/plain', 'file_size': 41401, 'creation_date': '2024-08-24', 'last_modified_date': '2024-08-24'}, hash='37857da5e5bc6bf9d5c27a6c43193778baa47bb9bb9a4f6a64cee361142ebd56'), <NodeRelationship.PREVIOUS: '2'>: RelatedNodeInfo(node_id='355c90ea-8cd6-429f-8d12-a6318b152854', node_type=<ObjectType.TEXT: '1'>, metadata={'file_path': '/home/zihan/Desktop/Manufacturing_QA/BookData/FullBook_HighQuality/sec30.txt', 'file_name': 'sec30.txt', 'file_type': 'text/plain', 'file_size': 41401, 'creation_date': '2024-08-24', 'last_modified_date': '2024-08-24'}, hash='6e549d9576f7b108bc64d7a16359da794e60fe020f97af0f7e994566e3b964d2'), <NodeRelationship.NEXT: '3'>: RelatedNodeInfo(node_id='f26e92a1-b5b5-45ac-9f85-0ee978470b5e', node_type=<ObjectType.TEXT: '1'>, metadata={}, hash='5378beb9219e81e826e24ba89e6494ba10f2d7b2f9eae38ff91734dac6404d8f')}, text='Bitumen, an asphalt adhesive, was used in an- cient times as a cement and mortar for construction  in Asia Minor. The Romans used pine wood tar and  beeswax to caulk their ships. Glues derived from ﬁ  sh,  stag horns, and cheese were used in the early centu- ries after Christ for assembling components of wood. In more modern times, adhesives have become  an important joining process. Plywood, which relies  on the use of adhesives to bond multiple layers of  wood, was developed around 1900. Phenol formal- dehyde was the ﬁ  rst synthetic adhesive developed,  around 1910, and its primary use was in bonding of  wood products such as plywood. During World War II,  phenolic resins were developed for adhesive bonding  of certain aircraft components. In the 1950s, epoxies  were ﬁ  rst formulated. And since the 1950s a variety  of additional adhesives have been developed, includ- ing anaerobics, various new polymers, and second- generation acrylics.  \\n\\nAdhesive bonding  is a joining process in which a ﬁ  ller material is used to hold two  (or more) closely spaced parts together by surface attachment. The ﬁ  ller material  that binds the parts together is the  adhesive . It is a nonmetallic substance—usually  a polymer. The parts being joined are called  adherends . Adhesives of greatest inter- est in engineering are  structural adhesives , which are capable of forming strong,  permanent joints between strong, rigid adherends. A large number of commercially  available adhesives are cured by various mechanisms and suited to the bonding  of various materials.  Curing  refers to the process by which the adhesive’s physical  properties are changed from a liquid to a solid, usually by chemical reaction, to  accomplish the surface attachment of the parts. The chemical reaction may involve  polymerization, condensation, or vulcanization. Curing is often motivated by heat  and/or a catalyst, and pressure is sometimes applied between the two parts to acti- vate the bonding process. If heat is required, the curing temperatures are relatively  low, and so the materials being joined are usually unaffected—an advantage for  adhesive bonding. The curing or hardening of the adhesive takes time, called  curing  time  or  setting time . In some cases this time is signiﬁ  cant—generally a disadvantage  in manufacturing.  \\n\\nJoint strength in adhesive bonding is determined by the strength of the adhesive  itself and the strength of attachment between adhesive and each of the adherends.  One of the criteria often used to deﬁ  ne a satisfactory adhesive joint is that if a failure  should occur due to excessive stresses, it occurs in one of the adherends rather than  at an interface or within the adhesive itself. The strength of the attachment results  from several mechanisms, all depending on the particular adhesive and adherends:  (1) chemical bonding, in which the adhesive unites with the adherends and forms a  primary chemical bond upon hardening; (2) physical interactions, in which secondary  bonding forces result between the atoms of the opposing surfaces; and (3) mechani- cal interlocking, in which the surface roughness of the adherend causes the hardened  adhesive to become entangled or trapped in its microscopic surface asperities.  \\n\\nFor these adhesion mechanisms to operate with best results, the following condi- tions must prevail: (1) surfaces of the adherend must be clean—free of dirt, oil, and  oxide ﬁ  lms that would interfere with achieving intimate contact between adhesive  and adherend; special preparation of the surfaces is often required; (2) the adhesive  in its initial liquid form must achieve thorough wetting of the adherend surface; and  (3) it is usually helpful for the surfaces to be other than perfectly smooth—a slightly  roughened surface increases the effective contact area and promotes mechani- cal interlocking. In addition, the joint must be designed to exploit the particular  strengths of adhesive bonding and avoid its limitations.  \\n\\n# 30.3.1  JOINT DESIGN  \\n\\nAdhesive joints are not generally as strong as those by welding, brazing, or solder- ing. Accordingly, consideration must be given to the design of joints that are adhe- sively bonded. The following design principles are applicable: (1) Joint contact area  should be maximized.', mimetype='text/plain', start_char_idx=27947, end_char_idx=32258, text_template='{metadata_str}\\n\\n{content}', metadata_template='{key}: {value}', metadata_seperator='\\n'), score=0.8155191923006793),\n",
       " NodeWithScore(node=TextNode(id_='ddd6a88f-013a-4a89-abd2-3add3b008c4a', embedding=None, metadata={'file_path': '/home/zihan/Desktop/Manufacturing_QA/BookData/FullBook_HighQuality/sec3.txt', 'file_name': 'sec3.txt', 'file_type': 'text/plain', 'file_size': 59052, 'creation_date': '2024-08-24', 'last_modified_date': '2024-08-24'}, excluded_embed_metadata_keys=['file_name', 'file_type', 'file_size', 'creation_date', 'last_modified_date', 'last_accessed_date'], excluded_llm_metadata_keys=['file_name', 'file_type', 'file_size', 'creation_date', 'last_modified_date', 'last_accessed_date'], relationships={<NodeRelationship.SOURCE: '1'>: RelatedNodeInfo(node_id='5000a351-3d5e-4cd1-b06d-ae066eaabe94', node_type=<ObjectType.DOCUMENT: '4'>, metadata={'file_path': '/home/zihan/Desktop/Manufacturing_QA/BookData/FullBook_HighQuality/sec3.txt', 'file_name': 'sec3.txt', 'file_type': 'text/plain', 'file_size': 59052, 'creation_date': '2024-08-24', 'last_modified_date': '2024-08-24'}, hash='baf1679d5d9ef21cb5c3b53a9f76dffed34e0ff60829d57bd739b7a3eb9fe566'), <NodeRelationship.PREVIOUS: '2'>: RelatedNodeInfo(node_id='5975299f-8846-43d0-900e-cae81f5c0de0', node_type=<ObjectType.TEXT: '1'>, metadata={'file_path': '/home/zihan/Desktop/Manufacturing_QA/BookData/FullBook_HighQuality/sec3.txt', 'file_name': 'sec3.txt', 'file_type': 'text/plain', 'file_size': 59052, 'creation_date': '2024-08-24', 'last_modified_date': '2024-08-24'}, hash='20e01bf5f00d701fdb4ef24449e4d99ea89720b2a1bcd9f49d7543eefe7eea14'), <NodeRelationship.NEXT: '3'>: RelatedNodeInfo(node_id='be1db1d2-c3d2-426a-ac76-95266fb1aaf8', node_type=<ObjectType.TEXT: '1'>, metadata={}, hash='7a748865a0735c125fc5d7eacca71897a5edeedc5a66c8aa9859c4ef4c455055')}, text='[](images/4fa9287e7e474f4387d790a053742a087536a2b5fe6d46af83a3ed15bed0f89e.jpg)  \\nFIGURE 3.10  Bending of a rectangular cross section results in both tensile and compressive stresses in the  material: (1) initial loading; (2) highly stressed and strained specimen; and (3) bent part.  \\n\\nload. These materials do not respond well to traditional tensile testing because of  problems in preparing the test specimens and possible misalignment of the press  jaws that hold the specimen. The  bending test  (also known as the  ﬂ  exure test ) is  used to test the strength of these materials, using a setup illustrated in the ﬁ  rst  diagram in Figure 3.10. In this procedure, a specimen of rectangular cross section  is positioned between two supports, and a load is applied at its center. In this con- ﬁ  guration, the test is called a three-point bending test. A four-point conﬁ  guration  is also sometimes used. These brittle materials do not ﬂ  ex to the exaggerated ex- tent shown in Figure 3.10; instead they deform elastically until immediately be- fore fracture. Failure usually occurs because the ultimate tensile strength of the  outer ﬁ  bers of the specimen has been exceeded. This results in  cleavage , a failure  mode associated with ceramics and metals operating at low service temperatures,  in which separation rather than slip occurs along certain crystallographic planes.  The strength value derived from this test is called the  transverse rupture strength ,  calculated from the formula  \\n\\n$$\\nT R S={\\\\frac{1.5F L}{b t^{2}}}\\n$$  \\n\\nwhere  $T R S=$  transverse rupture strength, MPa  $\\\\mathrm{(lb/in^{2})}$ ); $F=$  applied load at fracture,  N (lb); $L=$ length of the specimen between supports, mm (in); and  $b$  and  $t$  are the  dimensions of the cross section of the specimen as shown in the ﬁ  gure, mm (in).  \\n\\nThe ﬂ  exure test is also used for certain nonbrittle materials such as thermoplastic  polymers. In this case, because the material is likely to deform rather than fracture,  TRS cannot be determined based on failure of the specimen. Instead, either of two  measures is used: (1) the load recorded at a given level of deﬂ  ection, or (2) the de- ﬂ  ection observed at a given load.  \\n\\n# 3.1.4 SHEAR PROPERTIES  \\n\\nShear involves application of stresses in opposite directions on either side of a thin  element to deﬂ  ect it as shown in Figure 3.11. The shear stress is deﬁ  ned as  \\n\\n$$\\n\\\\tau={\\\\frac{F}{A}}\\n$$  \\n\\n![](images/54903b7bc86140704dc9a1b301a1623b6698845dbec06069b59ac3b86084a573.jpg)  \\n\\nwhere  $\\\\tau=$  shear stress,  $\\\\mathrm{lb/in^{2}}$  (MPa);  $F=$  applied force,  $\\\\mathbf{N}$  (lb); and  $A=$  area over  which the force is applied, $\\\\mathrm{in}^{2}\\\\left(\\\\mathrm{mm}^{2}\\\\right)$ . Shear strain can be deﬁ  ned as  \\n\\n$$\\n\\\\gamma=\\\\frac{\\\\delta}{b}\\n$$  \\n\\nwhere  $\\\\gamma=$  shear strain, $\\\\mathrm{mm/mm}\\\\;(\\\\mathrm{in/in});\\\\delta=$ the deﬂ  ection of the element, mm (in);  and $b=$  the orthogonal distance over which deﬂ  ection occurs, mm (in).  \\n\\nShear stress and strain are commonly tested in a  torsion test , in which a thin- walled tubular specimen is subjected to a torque as shown in Figure 3.12. As torque  is increased, the tube deﬂ  ects by twisting, which is a shear strain for this geometry.', mimetype='text/plain', start_char_idx=28849, end_char_idx=32098, text_template='{metadata_str}\\n\\n{content}', metadata_template='{key}: {value}', metadata_seperator='\\n'), score=0.8022100865826698),\n",
       " NodeWithScore(node=ImageNode(id_='140d3b3f-940a-4a08-bab6-f32108eafb34', embedding=None, metadata={'file_path': '/home/zihan/Desktop/Manufacturing_QA/BookData/FullBook_HighQuality/2a4cea0c373ac80ae77ece6aab83b4be279624aefb8325f99945639523350532.jpg', 'file_name': '2a4cea0c373ac80ae77ece6aab83b4be279624aefb8325f99945639523350532.jpg', 'file_type': 'image/jpeg', 'file_size': 79231, 'creation_date': '2024-08-24', 'last_modified_date': '2024-08-24'}, excluded_embed_metadata_keys=['file_name', 'file_type', 'file_size', 'creation_date', 'last_modified_date', 'last_accessed_date'], excluded_llm_metadata_keys=['file_name', 'file_type', 'file_size', 'creation_date', 'last_modified_date', 'last_accessed_date'], relationships={<NodeRelationship.SOURCE: '1'>: RelatedNodeInfo(node_id='efc1d6eb-af5e-42e9-bcb9-2902e8331093', node_type=<ObjectType.DOCUMENT: '4'>, metadata={'file_path': '/home/zihan/Desktop/Manufacturing_QA/BookData/FullBook_HighQuality/2a4cea0c373ac80ae77ece6aab83b4be279624aefb8325f99945639523350532.jpg', 'file_name': '2a4cea0c373ac80ae77ece6aab83b4be279624aefb8325f99945639523350532.jpg', 'file_type': 'image/jpeg', 'file_size': 79231, 'creation_date': '2024-08-24', 'last_modified_date': '2024-08-24'}, hash='9ab353e13cedd0e417610d9139cc61992d1114a12085921c1e89604d5c37f6d1')}, text='', mimetype='text/plain', start_char_idx=0, end_char_idx=0, text_template='{metadata_str}\\n\\n{content}', metadata_template='{key}: {value}', metadata_seperator='\\n', image=None, image_path='/home/zihan/Desktop/Manufacturing_QA/BookData/FullBook_HighQuality/2a4cea0c373ac80ae77ece6aab83b4be279624aefb8325f99945639523350532.jpg', image_url=None, image_mimetype=None, text_embedding=None), score=0.33605779729477514),\n",
       " NodeWithScore(node=ImageNode(id_='d7e9e850-2724-4ea9-a9a9-8e2eda90955a', embedding=None, metadata={'file_path': '/home/zihan/Desktop/Manufacturing_QA/BookData/FullBook_HighQuality/573d4cd81a3b8ed6ddb1155a0bd464c0bcc85081a1ec81abacfc064218b7ff7f.jpg', 'file_name': '573d4cd81a3b8ed6ddb1155a0bd464c0bcc85081a1ec81abacfc064218b7ff7f.jpg', 'file_type': 'image/jpeg', 'file_size': 139905, 'creation_date': '2024-08-24', 'last_modified_date': '2024-08-24'}, excluded_embed_metadata_keys=['file_name', 'file_type', 'file_size', 'creation_date', 'last_modified_date', 'last_accessed_date'], excluded_llm_metadata_keys=['file_name', 'file_type', 'file_size', 'creation_date', 'last_modified_date', 'last_accessed_date'], relationships={<NodeRelationship.SOURCE: '1'>: RelatedNodeInfo(node_id='2a672ff4-267f-4e8a-bbd3-9565126f4183', node_type=<ObjectType.DOCUMENT: '4'>, metadata={'file_path': '/home/zihan/Desktop/Manufacturing_QA/BookData/FullBook_HighQuality/573d4cd81a3b8ed6ddb1155a0bd464c0bcc85081a1ec81abacfc064218b7ff7f.jpg', 'file_name': '573d4cd81a3b8ed6ddb1155a0bd464c0bcc85081a1ec81abacfc064218b7ff7f.jpg', 'file_type': 'image/jpeg', 'file_size': 139905, 'creation_date': '2024-08-24', 'last_modified_date': '2024-08-24'}, hash='8ddf8eb19b810c227c6607aa0e1f3ae63f7b5cd8ef19e16c95a83b4248a41324')}, text='', mimetype='text/plain', start_char_idx=0, end_char_idx=0, text_template='{metadata_str}\\n\\n{content}', metadata_template='{key}: {value}', metadata_seperator='\\n', image=None, image_path='/home/zihan/Desktop/Manufacturing_QA/BookData/FullBook_HighQuality/573d4cd81a3b8ed6ddb1155a0bd464c0bcc85081a1ec81abacfc064218b7ff7f.jpg', image_url=None, image_mimetype=None, text_embedding=None), score=0.32819165507382064),\n",
       " NodeWithScore(node=ImageNode(id_='e8c6a1d8-d60a-468e-adaa-b782b516649d', embedding=None, metadata={'file_path': '/home/zihan/Desktop/Manufacturing_QA/BookData/FullBook_HighQuality/064528c4454ce68e9fe70bbd50f9eb7bc7b95f21af0d34869567572ef4951bf9.jpg', 'file_name': '064528c4454ce68e9fe70bbd50f9eb7bc7b95f21af0d34869567572ef4951bf9.jpg', 'file_type': 'image/jpeg', 'file_size': 50182, 'creation_date': '2024-08-24', 'last_modified_date': '2024-08-24'}, excluded_embed_metadata_keys=['file_name', 'file_type', 'file_size', 'creation_date', 'last_modified_date', 'last_accessed_date'], excluded_llm_metadata_keys=['file_name', 'file_type', 'file_size', 'creation_date', 'last_modified_date', 'last_accessed_date'], relationships={<NodeRelationship.SOURCE: '1'>: RelatedNodeInfo(node_id='f2b4c901-a58a-4b3a-b598-d931b3454ba4', node_type=<ObjectType.DOCUMENT: '4'>, metadata={'file_path': '/home/zihan/Desktop/Manufacturing_QA/BookData/FullBook_HighQuality/064528c4454ce68e9fe70bbd50f9eb7bc7b95f21af0d34869567572ef4951bf9.jpg', 'file_name': '064528c4454ce68e9fe70bbd50f9eb7bc7b95f21af0d34869567572ef4951bf9.jpg', 'file_type': 'image/jpeg', 'file_size': 50182, 'creation_date': '2024-08-24', 'last_modified_date': '2024-08-24'}, hash='733f736640017d086cdbddf5bd11b0287c217cd821b2f1860d5a406c2ccbf88f')}, text='', mimetype='text/plain', start_char_idx=0, end_char_idx=0, text_template='{metadata_str}\\n\\n{content}', metadata_template='{key}: {value}', metadata_seperator='\\n', image=None, image_path='/home/zihan/Desktop/Manufacturing_QA/BookData/FullBook_HighQuality/064528c4454ce68e9fe70bbd50f9eb7bc7b95f21af0d34869567572ef4951bf9.jpg', image_url=None, image_mimetype=None, text_embedding=None), score=0.326958810879014)]"
      ]
     },
     "execution_count": 3,
     "metadata": {},
     "output_type": "execute_result"
    }
   ],
   "source": [
    "retrieval_results"
   ]
  },
  {
   "cell_type": "code",
   "execution_count": 56,
   "metadata": {},
   "outputs": [
    {
     "name": "stdout",
     "output_type": "stream",
     "text": [
      "['/home/zihan/Desktop/Manufacturing_QA/BookData/FullBook_HighQuality/87da55401deee2b0c207b53858e19154e609cd7e60f29bc5d433ec339f6cd7d8.jpg', '/home/zihan/Desktop/Manufacturing_QA/BookData/FullBook_HighQuality/9788393f5c4e9e1eaa0ea03befff42bbb7366c00fcde4516c497d28b1c4e9442.jpg', '/home/zihan/Desktop/Manufacturing_QA/BookData/FullBook_HighQuality/9786dbb422a25eb92ac37ae329d75ca2a4136b5d8e55503c8c225c004f03254b.jpg', '/home/zihan/Desktop/Manufacturing_QA/BookData/FullBook_HighQuality/91287c58062afaeea2f39c89df9b91a6c46d2f8107e6f5402056de3489c60705.jpg', '/home/zihan/Desktop/Manufacturing_QA/BookData/FullBook_HighQuality/54903b7bc86140704dc9a1b301a1623b6698845dbec06069b59ac3b86084a573.jpg']\n"
     ]
    },
    {
     "data": {
      "image/png": "[encoded data removed]",
      "text/plain": [
       "<Figure size 640x480 with 5 Axes>"
      ]
     },
     "metadata": {},
     "output_type": "display_data"
    }
   ],
   "source": [
    "'''Step 1: Extract Image Links from Text'''\n",
    "import re\n",
    "\n",
    "def extract_image_links(text):\n",
    "    pattern = r'!\\[\\]\\((.*?)\\)'\n",
    "    return re.findall(pattern, text)\n",
    "\n",
    "\n",
    "images_link = []\n",
    "context_str = \"\"\n",
    "for res_node in retrieval_results:\n",
    "    if isinstance(res_node.node, ImageNode):\n",
    "        pass\n",
    "    else:\n",
    "        text = res_node.node.text\n",
    "        context_str += text\n",
    "        images_link += extract_image_links(text)\n",
    "\n",
    "\n",
    "\n",
    "# Base folder where the book data: text and images are stored \n",
    "base_folder = '/home/zihan/Desktop/Manufacturing_QA/BookData/FullBook_HighQuality'\n",
    "\n",
    "# Step 2: Modify paths to correct image paths\n",
    "def full_image_paths(image_links, base_folder):\n",
    "    text_extracted_images = []\n",
    "    for img_path in image_links:\n",
    "        # Remove 'images/' from the beginning of the path if it exists\n",
    "        if img_path.startswith('images/'):\n",
    "            img_path = img_path[len('images/'):]  # Remove 'images/' from the path\n",
    "            full_path = os.path.join(base_folder, img_path)\n",
    "        if not os.path.isfile(full_path):\n",
    "            print(f\"File not found: {full_path}\")\n",
    "        text_extracted_images.append(full_path)\n",
    "    return text_extracted_images\n",
    "\n",
    "# Get full image paths\n",
    "text_extracted_images = full_image_paths(images_link, base_folder)\n",
    "print(text_extracted_images)\n",
    "\n",
    "\n",
    "# Plot the images with full paths\n",
    "plot_images(text_extracted_images)"
   ]
  },
  {
   "cell_type": "code",
   "execution_count": 53,
   "metadata": {},
   "outputs": [
    {
     "data": {
      "text/plain": [
       "['/home/zihan/Desktop/Manufacturing_QA/BookData/FullBook_HighQuality/2a4cea0c373ac80ae77ece6aab83b4be279624aefb8325f99945639523350532.jpg',\n",
       " '/home/zihan/Desktop/Manufacturing_QA/BookData/FullBook_HighQuality/573d4cd81a3b8ed6ddb1155a0bd464c0bcc85081a1ec81abacfc064218b7ff7f.jpg',\n",
       " '/home/zihan/Desktop/Manufacturing_QA/BookData/FullBook_HighQuality/064528c4454ce68e9fe70bbd50f9eb7bc7b95f21af0d34869567572ef4951bf9.jpg',\n",
       " '/home/zihan/Desktop/Manufacturing_QA/BookData/FullBook_HighQuality/87da55401deee2b0c207b53858e19154e609cd7e60f29bc5d433ec339f6cd7d8.jpg',\n",
       " '/home/zihan/Desktop/Manufacturing_QA/BookData/FullBook_HighQuality/9788393f5c4e9e1eaa0ea03befff42bbb7366c00fcde4516c497d28b1c4e9442.jpg',\n",
       " '/home/zihan/Desktop/Manufacturing_QA/BookData/FullBook_HighQuality/9786dbb422a25eb92ac37ae329d75ca2a4136b5d8e55503c8c225c004f03254b.jpg',\n",
       " '/home/zihan/Desktop/Manufacturing_QA/BookData/FullBook_HighQuality/91287c58062afaeea2f39c89df9b91a6c46d2f8107e6f5402056de3489c60705.jpg',\n",
       " '/home/zihan/Desktop/Manufacturing_QA/BookData/FullBook_HighQuality/54903b7bc86140704dc9a1b301a1623b6698845dbec06069b59ac3b86084a573.jpg']"
      ]
     },
     "execution_count": 53,
     "metadata": {},
     "output_type": "execute_result"
    }
   ],
   "source": [
    "all_images = retrieved_image + text_extracted_images\n",
    "all_images"
   ]
  },
  {
   "cell_type": "code",
   "execution_count": 65,
   "metadata": {},
   "outputs": [],
   "source": [
    "prompt_templae = (\n",
    "    \"\"\"You are a top student in manufacturing major. You are in an exam and you need to answer the following MCQ based on the context provided and what you know regarding manufacturing processes and materials correctly.\n",
    "Please think step by step then choose the correct answer(s) carefully as your final answer, remember you need to provide the letter choice. Providing only the context choice will result in zero even if it is correct:\\n\n",
    "\n",
    "You must provide answer in the following format:\n",
    "\n",
    "\"Explanation\": \"Your explanation here.\", \"YourChoice\": \"A\"\n",
    "\n",
    "{context_str}\\n\n",
    "Answer the following question:\n",
    "Query: {query_str}\\n\n",
    "Answer: \"\"\"\n",
    ")\n",
    "\n",
    "prompt = prompt_templae.format(context_str=context_str, query_str=test_query)"
   ]
  },
  {
   "cell_type": "code",
   "execution_count": 66,
   "metadata": {},
   "outputs": [
    {
     "name": "stdout",
     "output_type": "stream",
     "text": [
      "\"Explanation\": Adhesively bonded joints are generally strongest under shear and tension stresses. Shear stress (option c) distributes the force uniformly across the bond line, maximizing the adhesive contact area which enhances the bond strength. Tension stress (option d) pulls across the bond line, which similarly allows the adhesive to retain a strong grip. Cleavage and peeling forces tend to concentrate stress at a single edge, which can initiate fracture or failure at the bond. \n",
      "\n",
      "\"YourChoice\": \"C, D\"\n"
     ]
    }
   ],
   "source": [
    "import os\n",
    "import base64\n",
    "from openai import OpenAI\n",
    "\n",
    "def encode_image(image_path):\n",
    "    with open(image_path, \"rb\") as image_file:\n",
    "        return base64.b64encode(image_file.read()).decode('utf-8')\n",
    "\n",
    "def generate_response(query, image_paths):\n",
    "    client = OpenAI(api_key=api_key)\n",
    "    # Encode images\n",
    "    encoded_images = [encode_image(img_path) for img_path in image_paths]\n",
    "    \n",
    "    # Construct the messages for the GPT-4 model\n",
    "    messages = [\n",
    "        {\n",
    "            \"role\": \"user\",\n",
    "            \"content\": [\n",
    "                {\"type\": \"text\", \"text\": query},\n",
    "                *[{\"type\": \"image_url\", \"image_url\": {\"url\": f\"data:image/jpeg;base64,{img}\"}} for img in encoded_images]\n",
    "            ]\n",
    "        }\n",
    "    ]\n",
    "    \n",
    "    # Call the OpenAI API\n",
    "    response = client.chat.completions.create(\n",
    "        model=\"gpt-4o\",\n",
    "        messages=messages,\n",
    "        max_tokens=4000\n",
    "    )\n",
    "    \n",
    "    return response.choices[0].message.content\n"
   ]
  },
  {
   "cell_type": "markdown",
   "metadata": {},
   "source": [
    "### Put everything together: Quick Test"
   ]
  },
  {
   "cell_type": "code",
   "execution_count": 15,
   "metadata": {},
   "outputs": [
    {
     "data": {
      "image/png": "[encoded data removed]",
      "text/plain": [
       "<Figure size 640x480 with 8 Axes>"
      ]
     },
     "metadata": {},
     "output_type": "display_data"
    },
    {
     "name": "stdout",
     "output_type": "stream",
     "text": [
      "['/home/zihan/Desktop/Manufacturing_QA/BookData/FullBook_HighQuality/2eb8e990cafaa6450db1808128146225667fa2a25202cd0cc857c35ad12469de.jpg', '/home/zihan/Desktop/Manufacturing_QA/BookData/FullBook_HighQuality/e3f534d2d950de911661e0d30985d7b003ab667c061ed6e05150fff87f6abc10.jpg', '/home/zihan/Desktop/Manufacturing_QA/BookData/FullBook_HighQuality/0cdd0aeaae37bcabb1ec116ba35f80e866b715c4afaf1b6ec57a643ee6bfd261.jpg', '/home/zihan/Desktop/Manufacturing_QA/BookData/FullBook_HighQuality/ed595687bb3fd9a1f8cdb7606bcbb50d129aceac0f6d6ffb748563290d217d5e.jpg', '/home/zihan/Desktop/Manufacturing_QA/BookData/FullBook_HighQuality/0a347d2991f8bb0cd63704f6624f3161c7be91b8085666ae06749f38ea04de9e.jpg', '/home/zihan/Desktop/Manufacturing_QA/BookData/FullBook_HighQuality/b45d9cd535ef2534ea73c7b1dfb9b6f8a339a9b1f78008c58d43d53c5a2cfd13.jpg', '/home/zihan/Desktop/Manufacturing_QA/BookData/FullBook_HighQuality/b4932a4d5e9e13587330567bfd44b5656e7efe22955d2844a157c68747fb03dd.jpg', '/home/zihan/Desktop/Manufacturing_QA/BookData/FullBook_HighQuality/8f3f75966fa23cc0685373ae9fa4ddc88b382e534df388fba44a850a9a630dd0.jpg']\n",
      "Engine Lathe Technology   Figure 21.7 is a sketch of an engine lathe showing its  principal components. The  headstock  contains the drive unit to rotate the spindle,  which rotates the work. Opposite the headstock is the  tailstock , in which a center is  mounted to support the other end of the workpiece.  \n",
      "\n",
      "![](images/ed595687bb3fd9a1f8cdb7606bcbb50d129aceac0f6d6ffb748563290d217d5e.jpg)  \n",
      "FIGURE 21.7  Diagram  of an engine lathe,  indicating its principal  components.  \n",
      "\n",
      "The cutting tool is held in a  tool post  fastened to the  cross-slide , which is assembled  to the  carriage . The carriage is designed to slide along the  ways  of the lathe in order  to feed the tool parallel to the axis of rotation. The ways are like tracks along which  the carriage rides, and they are made with great precision to achieve a high degree  of parallelism relative to the spindle axis. The ways are built into the  bed  of the lathe,  providing a rigid frame for the machine tool.  \n",
      "\n",
      "The carriage is driven by a leadscrew that rotates at the proper speed to obtain the  desired feed rate. The cross-slide is designed to feed in a direction perpendicular to  the carriage movement. Thus, by moving the carriage, the tool can be fed parallel to  the work axis to perform straight turning; or by moving the cross-slide, the tool can  be fed radially into the work to perform facing, form turning, or cutoff operations.  \n",
      "\n",
      "The conventional engine lathe and most other machines described in this section are  horizontal turning machines ; that is, the spindle axis is horizontal. This is appropriate  for the majority of turning jobs, in which the length is greater than the diameter. For  jobs in which the diameter is large relative to length and the work is heavy, it is more  convenient to orient the work so that it rotates about a vertical axis; these are  vertical  turning machines .  \n",
      "\n",
      "The size of a lathe is designated by swing and maximum distance between centers.  The  swing  is the maximum work part diameter that can be rotated in the spindle,  determined as twice the distance between the centerline of the spindle and the  ways of the machine. The actual maximum size of a cylindrical workpiece that  can be accommodated on the lathe is smaller than the swing because the carriage  and cross-slide assembly are in the way. The  maximum distance between centers   indicates the maximum length of a workpiece that can be mounted between head- stock and tailstock centers. For example, a  $350~\\mathrm{mm}\\times1.2~\\mathrm{m}$ ( $14~\\mathrm{in}\\times48$  in) lathe  designates that the swing is  $350~\\mathrm{mm}$  (14 in) and the maximum distance between  centers is $1.2\\:\\mathrm{m}$  (48 in).  \n",
      "\n",
      "Methods of Holding the Work in a Lathe   There are four common methods  used to hold work parts in turning. These workholding methods consist of various  mechanisms to grasp the work, center and support it in position along the spindle  axis, and rotate it. The methods, illustrated in Figure 21.8, are (a) mounting the work  between centers, (b) chuck, (c) collet, and (d) face plate.  \n",
      "\n",
      "Holding the work  between centers  refers to the use of two centers, one in the head- stock and the other in the tailstock, as in Figure 21.8(a). This method is appropriate  for parts with large length-to-diameter ratios. At the headstock center, a device called  a  dog  is attached to the outside of the work and is used to drive the rotation from the  spindle. The tailstock center has a cone-shaped point which is inserted into a tapered  hole in the end of the work. The tailstock center is either a “live” center or a “dead”  center. A  live center  rotates in a bearing in the tailstock, so that there is no relative  rotation between the work and the live center, hence, no friction between the center  and the workpiece. In contrast, a  dead center  is ﬁ  xed to the tailstock, so that it does  not rotate; instead, the workpiece rotates about it. Because of friction and the heat  buildup that results, this setup is normally used at lower rotational speeds.Consider how a simple positioning system, shown in Figure 37.9, might  operate. The system consists of a worktable on which a work part is ﬁ  xtured. The  purpose of the table is to move the part relative to a tool or work head. To accom- plish this purpose, the worktable is moved linearly by means of a rotating leadscrew  that is driven by a motor. For simplicity, only one axis is shown in the sketch. To pro- vide $x$ - y  capability, the system shown would be piggybacked on top of a second axis  perpendicular to the ﬁ  rst. The leadscrew has a certain pitch $p$ , $\\mathrm{mm}/\\AA$ thread (in/thread)  or mm/rev (in/rev). Thus, the table is moved a distance equal to the leadscrew pitch  for each revolution. The velocity at which the worktable moves is determined by the  rotational speed of the leadscrew.  \n",
      "\n",
      "Two basic types of motion control are used in NC: (a) open loop and (b) closed  loop, as shown in Figure 37.10. The difference is that an open-loop system operates  without verifying that the desired position of the worktable has been achieved. A  closed-loop control system uses feedback measurement to verify that the position of  the worktable is indeed the location speciﬁ  ed in the program. Open-loop systems are  less expensive than closed-loop systems and are appropriate when the force resisting  the actuating motion is minimal, as in point-to-point drilling, for example. Closed- loop systems are normally speciﬁ  ed for machine tools that perform continuous path  operations such as milling or turning, in which the resisting forces can be signiﬁ  cant.  \n",
      "\n",
      "![](images/0a347d2991f8bb0cd63704f6624f3161c7be91b8085666ae06749f38ea04de9e.jpg)  \n",
      "FIGURE 37.9  Motor  and leadscrew  arrangement in an NC  positioning system.  \n",
      "\n",
      "![](images/b45d9cd535ef2534ea73c7b1dfb9b6f8a339a9b1f78008c58d43d53c5a2cfd13.jpg)  \n",
      "FIGURE 37.10  Two  types of motion control  in NC: (a) open loop and  (b) closed loop.  \n",
      "\n",
      "Open-Loop Positioning Systems  To turn the leadscrew, an open-loop  positioning system typically uses a stepping motor (a.k.a. stepper motor). In  NC, the stepping motor is driven by a series of electrical pulses generated by the  machine control unit. Each pulse causes the motor to rotate a fraction of one  revolution, called the step angle. The allowable step angles must conform to the  relationship  \n",
      "\n",
      "$$\n",
      "\\alpha=\\frac{360}{n_{s}}\n",
      "$$  \n",
      "\n",
      "where  $\\alpha\\,=$ step angle, degrees; and  $n_{s}=$  the number of step angles for the motor,  which must be an integer. The angle through which the motor shaft rotates is given  by  \n",
      "\n",
      "$$\n",
      "A_{m}=\\alpha n_{p}\n",
      "$$  \n",
      "\n",
      "where $A_{m}=$  angle of motor shaft rotation, degrees; $n_{p}=$ number of pulses received  by the motor; and  $\\alpha\\,=$  step angle, here deﬁ  ned as degrees/pulse. Finally, the rota- tional speed of the motor shaft is determined by the frequency of pulses sent to the  motor:  \n",
      "\n",
      "$$\n",
      "N_{m}=\\frac{60\\,\\alpha\\,f_{p}}{360}\n",
      "$$  \n",
      "\n",
      "where $N_{m}=$  speed of motor shaft rotation, $\\scriptstyle{\\mathrm{rev/min}};f_{p}\\;=$ frequency of pulses driving  the stepper motor, $\\mathrm{Hz}$  (pulses/sec), the constant 60 converts pulses/sec to pulses/min;  the constant 360 converts degrees of rotation to full revolutions; and  $\\alpha=$  step angle  of the motor, as before.  \n",
      "\n",
      "The motor shaft drives the leadscrew that determines the position and veloc- ity of the worktable. The connection is often designed using a gear reduction to  increase the precision of table movement. However, the angle of rotation and  rotational speed of the leadscrew are reduced by this gear ratio.![](images/b4932a4d5e9e13587330567bfd44b5656e7efe22955d2844a157c68747fb03dd.jpg)  \n",
      "FIGURE 21.23  Two basic types of knee-and-column milling machine: (a) horizontal and (b) vertical.  \n",
      "\n",
      "It is available as either a horizontal or a vertical machine, as illustrated in Figure 21.23.  In the horizontal version, an arbor usually supports the cutter. The  arbor  is basically a  shaft that holds the milling cutter and is driven by the spindle. An overarm is provided  on horizontal machines to support the arbor. On vertical knee-and-column machines,  milling cutters can be mounted directly in the spindle without an arbor.  \n",
      "\n",
      "One of the features of the knee-and-column milling machine that makes it so  versatile is its capability for worktable feed movement in any of the $x{-}y{-}z$  axes.  The worktable can be moved in the $x$ -direction, the saddle can be moved in the  $y$ -direction, and the knee can be moved vertically to achieve the  $z$ -movement.  \n",
      "\n",
      "Two special knee-and-column machines should be identiﬁ  ed. One is the  universal   milling machine, Figure 21.24(a), which has a table that can be swiveled in a horizon- tal plane (about a vertical axis) to any speciﬁ  ed angle. This facilitates the cutting of  angular shapes and helixes on work parts. Another special machine is the  ram mill ,  \n",
      "\n",
      "![](images/8f3f75966fa23cc0685373ae9fa4ddc88b382e534df388fba44a850a9a630dd0.jpg)  \n",
      "FIGURE 21.24  Special types of knee-and-column milling machine: (a) universal—overarm, arbor, and cutter omitted  for clarity: and (b) ram type.  \n",
      "\n",
      "Figure 21.24(b), in which the toolhead containing the spindle is located on the end of  a horizontal ram; the ram can be adjusted in and out over the worktable to locate the  cutter relative to the work. The toolhead can also be swiveled to achieve an angular  orientation of the cutter with respect to the work. These features provide consider- able versatility in machining a variety of work shapes.  \n",
      "\n",
      "Bed-type milling machines  are designed for high production. They are constructed  with greater rigidity than knee-and-column machines, thus permitting them to achieve  heavier feed rates and depths of cut needed for high material removal rates. The  characteristic construction of the bed-type milling machine is shown in Figure 21.25.  The worktable is mounted directly to the bed of the machine tool, rather than using  the less rigid knee-type design. This construction limits the possible motion of the table  to longitudinal feeding of the work past the milling cutter. The cutter is mounted in a  spindle head that can be adjusted vertically along the machine column. Single spindle  bed machines are called  simplex  mills, as in Figure 21.25, and are available in either  horizontal or vertical models.  Duplex  mills use two spindle heads. The heads are usually  positioned horizontally on opposite sides of the bed to perform simultaneous opera- tions during one feeding pass of the work.  Triplex  mills add a third spindle mounted  vertically over the bed to further increase machining capability.  \n",
      "\n",
      "Planer type mills  are the largest milling machines. Their general appearance and  construction are those of a large planer (see Figure 21.31); the difference is that  milling is performed instead of planing. Accordingly, one or more milling heads are  substituted for the single-point cutting tools used on planers, and the motion of the  work past the tool is a feed rate motion rather than a cutting speed motion. Planer  mills are built to machine very large parts. The worktable and bed of the machine  are heavy and relatively low to the ground, and the milling heads are supported by a  bridge structure that spans across the table.  \n",
      "\n",
      "A  tracer mill , also called a  proﬁ  ling mill , is designed to reproduce an irregular part  geometry that has been created on a template. Using either manual feed by a human  operator or automatic feed by the machine tool, a tracing probe is controlled to follow  the template while a milling head duplicates the path taken by the probe to machine  the desired shape.\n",
      "\"Explanation\": \"Yes, Figure 21.7 in the first image demonstrates how the carriage and cross-slide are positioned in relation to the lathe bed. The cross-slide is attached to the carriage which moves along the ways of the lathe bed. This diagram labels the key components, making it clear how they are related to each other and the bed of the lathe.\", \"YourChoice\": \"D\"\n"
     ]
    }
   ],
   "source": [
    "\"\"\"Put everything together\"\"\"\n",
    "import re\n",
    "import os\n",
    "import base64\n",
    "from openai import OpenAI\n",
    "from llama_index.core.schema import ImageNode\n",
    "from PIL import Image\n",
    "import matplotlib.pyplot as plt\n",
    "\n",
    "def plot_images(image_paths):\n",
    "    images_shown = 0\n",
    "    for img_path in image_paths:\n",
    "        if os.path.isfile(img_path):\n",
    "            image = Image.open(img_path).convert(\"RGB\")\n",
    "\n",
    "            plt.subplot(8, 8, images_shown + 1)\n",
    "            plt.imshow(image)\n",
    "            plt.xticks([])\n",
    "            plt.yticks([])\n",
    "            \n",
    "            images_shown += 1\n",
    "            if images_shown >= 64:\n",
    "                break\n",
    "\n",
    "    plt.tight_layout()\n",
    "    plt.show()\n",
    "\n",
    "\n",
    "def extract_image_links(text):\n",
    "    pattern = r'!\\[\\]\\((.*?)\\)'\n",
    "    return re.findall(pattern, text)\n",
    "\n",
    "\n",
    "# Step 2: Modify paths to correct image paths\n",
    "def full_image_paths(image_links, base_folder):\n",
    "    text_extracted_images = []\n",
    "    for img_path in image_links:\n",
    "        # Remove 'images/' from the beginning of the path if it exists\n",
    "        if img_path.startswith('images/'):\n",
    "            img_path = img_path[len('images/'):]  # Remove 'images/' from the path\n",
    "            full_path = os.path.join(base_folder, img_path)\n",
    "        if not os.path.isfile(full_path):\n",
    "            print(f\"File not found: {full_path}\")\n",
    "        text_extracted_images.append(full_path)\n",
    "    return text_extracted_images\n",
    "\n",
    "def encode_image(image_path):\n",
    "    with open(image_path, \"rb\") as image_file:\n",
    "        return base64.b64encode(image_file.read()).decode('utf-8')\n",
    "\n",
    "def generate_response(query, image_paths):\n",
    "    client = OpenAI(api_key=api_key)\n",
    "    # Encode images\n",
    "    encoded_images = [encode_image(img_path) for img_path in image_paths]\n",
    "    \n",
    "    # Construct the messages for the GPT-4 model\n",
    "    messages = [\n",
    "        {\n",
    "            \"role\": \"user\",\n",
    "            \"content\": [\n",
    "                {\"type\": \"text\", \"text\": query},\n",
    "                *[{\"type\": \"image_url\", \"image_url\": {\"url\": f\"data:image/jpeg;base64,{img}\"}} for img in encoded_images]\n",
    "            ]\n",
    "        }\n",
    "    ]\n",
    "    \n",
    "    # Call the OpenAI API\n",
    "    response = client.chat.completions.create(\n",
    "        model=\"gpt-4o\",\n",
    "        messages=messages,\n",
    "        max_tokens=4000\n",
    "    )\n",
    "    \n",
    "    return response.choices[0].message.content\n",
    "\n",
    "\n",
    "def QA(question, image_folder, top_k = 3, image_top_k=3, show_images=False, show_context=False):\n",
    "    retriever = index.as_retriever(similarity_top_k=top_k, image_similarity_top_k=image_top_k)\n",
    "    retrieval_results = retriever.retrieve(question)\n",
    "\n",
    "    images_link = []\n",
    "    retrieved_images = []\n",
    "    context_str = \"\"\n",
    "    for res_node in retrieval_results:\n",
    "        if isinstance(res_node.node, ImageNode):\n",
    "            retrieved_images.append(res_node.node.metadata[\"file_path\"])\n",
    "        else:\n",
    "            text = res_node.node.text\n",
    "            context_str += text\n",
    "            images_link += extract_image_links(text)\n",
    "\n",
    "    # Get full image paths\n",
    "    text_extracted_images = full_image_paths(images_link, image_folder)\n",
    "    all_images = retrieved_images + text_extracted_images\n",
    "\n",
    "    if show_images:\n",
    "        plot_images(all_images)\n",
    "        print('Images path:\\n',all_images)\n",
    "    if show_context:\n",
    "        print(context_str)\n",
    "\n",
    "    prompt_templae = (\n",
    "        \"\"\"You are a top student in manufacturing major. You are in an exam and you need to answer the following MCQ based on the context provided and what you know regarding manufacturing processes and materials correctly.\n",
    "    Please think step by step then choose the correct answer(s) carefully as your final answer, remember you need to provide the letter choice. Providing only the context choice will result in zero even if it is correct:\\n\n",
    "\n",
    "    You must provide answer in the following format:\n",
    "\n",
    "    \"Explanation\": \"Your explanation here.\", \"YourChoice\": \"A\"\n",
    "\n",
    "    {context_str}\\n\n",
    "    Answer the following question:\n",
    "    Query: {query_str}\\n\n",
    "    Answer: \"\"\"\n",
    "    )\n",
    "    prompt = prompt_templae.format(context_str=context_str, query_str=question)\n",
    "    result = generate_response(prompt, all_images)\n",
    "    print(result)\n",
    "    return result\n",
    "\n",
    "\n",
    "\n",
    "if __name__ == \"__main__\":\n",
    "    question = \"Is there a figure that demonstrates how the carriage and cross-slide are positioned in relation to the lathe bed?\"\n",
    "    image_folder = '/home/zihan/Desktop/Manufacturing_QA/BookData/FullBook_HighQuality'\n",
    "    result = QA(question, image_folder, top_k = 3, image_top_k=3, show_images=True, show_context=True)\n",
    "\n",
    "\n"
   ]
  },
  {
   "cell_type": "markdown",
   "metadata": {},
   "source": [
    "## The following section provide idea about how first convert images to summary and then replace the old document to make multimodal to language only"
   ]
  },
  {
   "cell_type": "code",
   "execution_count": null,
   "metadata": {},
   "outputs": [],
   "source": [
    "\n",
    "'''\n",
    "Step 2: Generate Captions for Images\n",
    "We'll use an image captioning model from the transformers library, such as BLIP. This model can generate a caption for a given image.\n",
    "'''\n",
    "from transformers import BlipProcessor, BlipForConditionalGeneration\n",
    "from PIL import Image\n",
    "\n",
    "# Load the BLIP model and processor\n",
    "processor = BlipProcessor.from_pretrained(\"Salesforce/blip-image-captioning-base\")\n",
    "model = BlipForConditionalGeneration.from_pretrained(\"Salesforce/blip-image-captioning-base\")\n",
    "\n",
    "def generate_caption(image_path):\n",
    "    raw_image = Image.open(image_path).convert('RGB')\n",
    "    inputs = processor(raw_image, return_tensors=\"pt\")\n",
    "    out = model.generate(**inputs)\n",
    "    caption = processor.decode(out[0], skip_special_tokens=True)\n",
    "    return caption\n",
    "\n",
    "\n",
    "'''\n",
    "Step 3: Replace Image Links with Captions\n",
    "We'll replace each image link in your text with the corresponding generated caption.\n",
    "'''\n",
    "def replace_images_with_captions(text):\n",
    "    pattern = r'!\\[\\]\\((.*?)\\)'\n",
    "    matches = re.findall(pattern, text)\n",
    "    for image_path in matches:\n",
    "        caption = generate_caption(image_path)\n",
    "        # Replace the image link with the caption\n",
    "        text = text.replace(f'![]({image_path})', f'[Image: {caption}]')\n",
    "    return text\n",
    "\n",
    "\n",
    "\n",
    "'''\n",
    "Step 4: Rebuild the Index with Modified Text\n",
    "We'll process your documents to replace image links with captions and then rebuild the index.\n",
    "'''\n",
    "from llama_index import GPTVectorStoreIndex, SimpleDirectoryReader\n",
    "\n",
    "# Load your documents\n",
    "documents = SimpleDirectoryReader('path_to_your_text_files').load_data()\n",
    "\n",
    "# Process each document\n",
    "for doc in documents:\n",
    "    doc.text = replace_images_with_captions(doc.text)\n",
    "\n",
    "# Build the index with the modified documents\n",
    "index = GPTVectorStoreIndex.from_documents(documents)\n",
    "\n",
    "'''\n",
    "Step 5: Proceed with Querying\n",
    "Now, you can use your query engine as before.\n",
    "'''\n",
    "\n",
    "from llama_index.multi_modal_llms.openai import OpenAIMultiModal\n",
    "from llama_index import PromptTemplate\n",
    "\n",
    "OPENAI_API_KEY = api_key\n",
    "os.environ[\"OPENAI_API_KEY\"] = OPENAI_API_KEY\n",
    "\n",
    "openai_mm_llm = OpenAIMultiModal(\n",
    "    model=\"gpt-4\", api_key=OPENAI_API_KEY, max_new_tokens=4000\n",
    ")\n",
    "\n",
    "qa_tmpl_str = (\n",
    "    \"\"\"You are a top student in manufacturing major. You are in an exam and you need to answer the following MCQ based on the context provided and what you know regarding manufacturing processes and materials correctly.\n",
    "Please think step by step then choose the correct answer(s) carefully as your final answer, remember you need to provide the letter choice. Providing only the context choice will result in zero even if it is correct:\\n\n",
    "\n",
    "You must provide answer in the following format:\n",
    "\n",
    "\"Explanation\": \"Your explanation here.\", \"YourChoice\": \"A\"\n",
    "\n",
    "{context_str}\\n\n",
    "Answer the following question:\n",
    "Query: {query_str}\\n\n",
    "Answer: \"\"\"\n",
    ")\n",
    "qa_tmpl = PromptTemplate(qa_tmpl_str)\n",
    "\n",
    "query_engine = index.as_query_engine(\n",
    "    llm=openai_mm_llm, text_qa_template=qa_tmpl\n",
    ")\n",
    "\n",
    "test_query = \"\"\"In the iron-iron carbide phase diagram of Figure 6.4, identify the phase or phases present at the following temperatures and nominal compositions: (c) 1095°C (2000°F) and 1% Fe3C\"\"\"\n",
    "\n",
    "try:\n",
    "    result = query_engine.query(test_query)\n",
    "    print(result)\n",
    "except RuntimeError as e:\n",
    "    if 'too long for context length' in str(e):\n",
    "        result = \"No output, likely because the input context is too long\"\n",
    "        print(result)\n",
    "    else:\n",
    "        raise e\n",
    "\n",
    "\n",
    "\n"
   ]
  }
 ],
 "metadata": {
  "kernelspec": {
   "display_name": "base",
   "language": "python",
   "name": "python3"
  },
  "language_info": {
   "codemirror_mode": {
    "name": "ipython",
    "version": 3
   },
   "file_extension": ".py",
   "mimetype": "text/x-python",
   "name": "python",
   "nbconvert_exporter": "python",
   "pygments_lexer": "ipython3",
   "version": "3.11.5"
  }
 },
 "nbformat": 4,
 "nbformat_minor": 2
}
