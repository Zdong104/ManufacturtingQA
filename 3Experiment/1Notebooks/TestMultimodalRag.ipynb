{
 "cells": [
  {
   "cell_type": "code",
   "execution_count": 1,
   "metadata": {},
   "outputs": [],
   "source": [
    "import os\n",
    "from dotenv import load_dotenv\n",
    "import openai\n",
    "\n",
    "# Load the environment variables from the specified .env file\n",
    "dotenv_path = '/home/zihan/Desktop/Manufacturing_QA/Experimental_Code/GraphRag/.env'\n",
    "load_dotenv(dotenv_path)\n",
    "\n",
    "# Load the OpenAI API key from the environment variable\n",
    "api_key = os.getenv('GRAPHRAG_API_KEY')\n",
    "assert api_key is not None, \"OpenAI API key not found in environment variables.\"\n",
    "\n",
    "openai.api_key = api_key"
   ]
  },
  {
   "cell_type": "code",
   "execution_count": 3,
   "metadata": {},
   "outputs": [],
   "source": [
    "import requests\n",
    "\n",
    "\n",
    "def get_wikipedia_images(title):\n",
    "    response = requests.get(\n",
    "        \"https://en.wikipedia.org/w/api.php\",\n",
    "        params={\n",
    "            \"action\": \"query\",\n",
    "            \"format\": \"json\",\n",
    "            \"titles\": title,\n",
    "            \"prop\": \"imageinfo\",\n",
    "            \"iiprop\": \"url|dimensions|mime\",\n",
    "            \"generator\": \"images\",\n",
    "            \"gimlimit\": \"50\",\n",
    "        },\n",
    "    ).json()\n",
    "    image_urls = []\n",
    "    for page in response[\"query\"][\"pages\"].values():\n",
    "        if page[\"imageinfo\"][0][\"url\"].endswith(\".jpg\") or page[\"imageinfo\"][\n",
    "            0\n",
    "        ][\"url\"].endswith(\".png\"):\n",
    "            image_urls.append(page[\"imageinfo\"][0][\"url\"])\n",
    "    return image_urls"
   ]
  },
  {
   "cell_type": "code",
   "execution_count": 5,
   "metadata": {},
   "outputs": [],
   "source": [
    "from pathlib import Path\n",
    "import requests\n",
    "import urllib.request\n",
    "\n",
    "image_uuid = 0\n",
    "# image_metadata_dict stores images metadata including image uuid, filename and path\n",
    "image_metadata_dict = {}\n",
    "MAX_IMAGES_PER_WIKI = 20\n",
    "\n",
    "wiki_titles = {\n",
    "    \"Tesla Model S\",\n",
    "    \"Porsche Taycan\",\n",
    "    \"Polestar\",\n",
    "}\n",
    "\n",
    "\n",
    "data_path = Path(\"mixed_wiki\")\n",
    "if not data_path.exists():\n",
    "    Path.mkdir(data_path)\n",
    "\n",
    "for title in wiki_titles:\n",
    "    response = requests.get(\n",
    "        \"https://en.wikipedia.org/w/api.php\",\n",
    "        params={\n",
    "            \"action\": \"query\",\n",
    "            \"format\": \"json\",\n",
    "            \"titles\": title,\n",
    "            \"prop\": \"extracts\",\n",
    "            \"explaintext\": True,\n",
    "        },\n",
    "    ).json()\n",
    "    page = next(iter(response[\"query\"][\"pages\"].values()))\n",
    "    wiki_text = page[\"extract\"]\n",
    "\n",
    "    with open(data_path / f\"{title}.txt\", \"w\") as fp:\n",
    "        fp.write(wiki_text)\n",
    "\n",
    "    images_per_wiki = 0\n",
    "    try:\n",
    "        # page_py = wikipedia.page(title)\n",
    "        list_img_urls = get_wikipedia_images(title)\n",
    "        # print(list_img_urls)\n",
    "\n",
    "        for url in list_img_urls:\n",
    "            if (\n",
    "                url.endswith(\".jpg\")\n",
    "                or url.endswith(\".png\")\n",
    "                or url.endswith(\".svg\")\n",
    "            ):\n",
    "                image_uuid += 1\n",
    "                # image_file_name = title + \"_\" + url.split(\"/\")[-1]\n",
    "\n",
    "                urllib.request.urlretrieve(\n",
    "                    url, data_path / f\"{image_uuid}.jpg\"\n",
    "                )\n",
    "                images_per_wiki += 1\n",
    "                # Limit the number of images downloaded per wiki page to 15\n",
    "                if images_per_wiki > MAX_IMAGES_PER_WIKI:\n",
    "                    break\n",
    "    except:\n",
    "        print(str(Exception(\"No images found for Wikipedia page: \")) + title)\n",
    "        continue"
   ]
  },
  {
   "cell_type": "code",
   "execution_count": 2,
   "metadata": {},
   "outputs": [],
   "source": [
    "from llama_index.core.indices import MultiModalVectorStoreIndex\n",
    "from llama_index.vector_stores.qdrant import QdrantVectorStore\n",
    "from llama_index.core import SimpleDirectoryReader, StorageContext\n",
    "\n",
    "import qdrant_client\n",
    "from llama_index.core import SimpleDirectoryReader\n",
    "\n",
    "\n",
    "# Create a local Qdrant vector store\n",
    "client = qdrant_client.QdrantClient(path=\"qdrant_mm_db\")\n",
    "\n",
    "text_store = QdrantVectorStore(\n",
    "    client=client, collection_name=\"text_collection\"\n",
    ")\n",
    "image_store = QdrantVectorStore(\n",
    "    client=client, collection_name=\"image_collection\"\n",
    ")\n",
    "\n",
    "# storage_context = StorageContext.from_defaults(\n",
    "#     vector_store=text_store, image_store=image_store\n",
    "# )\n",
    "\n",
    "# # Create the MultiModal index\n",
    "# documents = SimpleDirectoryReader(\"./mixed_wiki/\").load_data()\n",
    "# index = MultiModalVectorStoreIndex.from_documents(\n",
    "#     documents,\n",
    "#     storage_context=storage_context,\n",
    "# )\n",
    "\n",
    "# # Save it\n",
    "# index.storage_context.persist(persist_dir=\"storage\")\n",
    "\n",
    "# # Load it\n",
    "from llama_index.core import load_index_from_storage\n",
    "\n",
    "storage_context = StorageContext.from_defaults(\n",
    "    vector_store=text_store, persist_dir=\"storage\"\n",
    ")\n",
    "index = load_index_from_storage(storage_context, image_store=image_store)"
   ]
  },
  {
   "cell_type": "code",
   "execution_count": 3,
   "metadata": {},
   "outputs": [
    {
     "name": "stdout",
     "output_type": "stream",
     "text": [
      "The Porsche Taycan is a battery electric luxury sports sedan and shooting brake car produced by the German automobile manufacturer Porsche. It was first introduced as a concept car named the Porsche Mission E at the 2015 Frankfurt Motor Show, and the production version was revealed four years later at the 2019 Frankfurt Motor Show. The Taycan is Porsche's first series production electric car and is built on the J1 electric car platform, which it shares with the Audi e-tron GT.\n",
      "\n",
      "The name \"Taycan\" is derived from the Turkish words \"tay,\" meaning colt or young horse, and \"can,\" meaning lively, referencing the steed on the coat of arms of the city of Stuttgart, which is also found on the Porsche crest. Despite the use of the \"Turbo\" name in higher trims, these vehicles do not have turbochargers as they are electrically powered; the name is used purely for branding purposes.\n",
      "\n",
      "The Taycan features a design influenced by the Mission E concept car, with elements such as a retractable rear spoiler, retractable door handles, and four-point LED daytime running lamps. The interior includes Porsche's first fully digital instrumentation, with up to four digital displays, including a curved, free-standing configurable driver's display and a central infotainment screen. The Taycan Turbo and Turbo S models come with carbon fiber trim and 20-inch wheels.\n",
      "\n",
      "The Taycan is available in several variants, including the Taycan Cross Turismo and Taycan Sport Turismo, which are shooting brake/wagon versions with additional cargo space and different styling elements. The Cross Turismo has a more rugged, crossover-like appearance, while the Sport Turismo maintains a sleeker estate profile.\n",
      "\n",
      "The Taycan's chassis is primarily made of steel and aluminum, with various bonding techniques used to join the materials. The car's powertrain includes a battery-electric all-wheel-drive system with permanent-magnet synchronous motors on each axle, and it offers different battery capacities and power outputs depending on the model. The Taycan has undergone updates, including a mid-cycle refresh in 2024 that introduced improved battery chemistry and more powerful motors.\n"
     ]
    }
   ],
   "source": [
    "from llama_index.core import PromptTemplate\n",
    "from llama_index.core.query_engine import SimpleMultiModalQueryEngine\n",
    "from llama_index.multi_modal_llms.openai import OpenAIMultiModal\n",
    "\n",
    "\n",
    "qa_tmpl_str = (\n",
    "    \"Context information is below.\\n\"\n",
    "    \"---------------------\\n\"\n",
    "    \"{context_str}\\n\"\n",
    "    \"---------------------\\n\"\n",
    "    \"Given the context information and not prior knowledge, \"\n",
    "    \"answer the query.\\n\"\n",
    "    \"Query: {query_str}\\n\"\n",
    "    \"Answer: \"\n",
    ")\n",
    "qa_tmpl = PromptTemplate(qa_tmpl_str)\n",
    "\n",
    "\n",
    "openai_mm_llm = OpenAIMultiModal(\n",
    "    model=\"gpt-4o\", api_key=api_key, max_new_tokens=1500\n",
    ")\n",
    "\n",
    "\n",
    "query_engine = index.as_query_engine(\n",
    "    llm=openai_mm_llm, text_qa_template=qa_tmpl\n",
    ")\n",
    "\n",
    "query_str = \"Tell me more about the Porsche\"\n",
    "response = query_engine.query(query_str)\n",
    "\n",
    "\n",
    "print(str(response))"
   ]
  },
  {
   "cell_type": "code",
   "execution_count": 12,
   "metadata": {},
   "outputs": [
    {
     "data": {
      "text/markdown": [
       "**Node ID:** 0010020c-bbff-4cd4-a5ca-1d09c5fa7a6a<br>**Similarity:** 0.8289366566526364<br>**Text:** == Specifications ==\n",
       "\n",
       "\n",
       "=== Chassis ===\n",
       "The Taycan's body is mainly steel and aluminium joined by different bonding techniques. The body's B pillars, side roof frame and seat cross member are made f...<br>"
      ],
      "text/plain": [
       "<IPython.core.display.Markdown object>"
      ]
     },
     "metadata": {},
     "output_type": "display_data"
    },
    {
     "data": {
      "text/markdown": [
       "**Node ID:** 2d83f430-66e5-4b6f-b3a0-669290bd53b1<br>**Similarity:** 0.8287980006096716<br>**Text:** The Porsche Taycan is a battery electric luxury sports sedan and shooting brake car produced by German automobile manufacturer Porsche. The concept version of the Taycan named the Porsche Mission E...<br>"
      ],
      "text/plain": [
       "<IPython.core.display.Markdown object>"
      ]
     },
     "metadata": {},
     "output_type": "display_data"
    },
    {
     "data": {
      "text/plain": [
       "<Figure size 1600x900 with 0 Axes>"
      ]
     },
     "metadata": {},
     "output_type": "display_data"
    }
   ],
   "source": [
    "import matplotlib.pyplot as plt\n",
    "from PIL import Image\n",
    "import os\n",
    "\n",
    "def plot_images(image_paths):\n",
    "    images_shown = 0\n",
    "    plt.figure(figsize=(16, 9))\n",
    "    for img_path in image_paths:\n",
    "        if os.path.isfile(img_path):\n",
    "            image = Image.open(img_path)\n",
    "\n",
    "            plt.subplot(2, 3, images_shown + 1)\n",
    "            plt.imshow(image)\n",
    "            plt.xticks([])\n",
    "            plt.yticks([])\n",
    "\n",
    "            images_shown += 1\n",
    "            if images_shown >= 9:\n",
    "                break\n",
    "\n",
    "# show sources\n",
    "from llama_index.core.response.notebook_utils import display_source_node\n",
    "\n",
    "for text_node in response.metadata[\"text_nodes\"]:\n",
    "    display_source_node(text_node, source_length=200)\n",
    "\n",
    "plot_images(\n",
    "    [n.metadata[\"file_path\"] for n in response.metadata[\"image_nodes\"]]\n",
    ")"
   ]
  },
  {
   "cell_type": "code",
   "execution_count": 10,
   "metadata": {},
   "outputs": [
    {
     "data": {
      "text/plain": [
       "<Figure size 1600x900 with 0 Axes>"
      ]
     },
     "metadata": {},
     "output_type": "display_data"
    }
   ],
   "source": [
    "plot_images(\n",
    "    [n.metadata[\"file_path\"] for n in response.metadata[\"image_nodes\"]]\n",
    ")"
   ]
  }
 ],
 "metadata": {
  "kernelspec": {
   "display_name": "base",
   "language": "python",
   "name": "python3"
  },
  "language_info": {
   "codemirror_mode": {
    "name": "ipython",
    "version": 3
   },
   "file_extension": ".py",
   "mimetype": "text/x-python",
   "name": "python",
   "nbconvert_exporter": "python",
   "pygments_lexer": "ipython3",
   "version": "3.11.5"
  }
 },
 "nbformat": 4,
 "nbformat_minor": 2
}
