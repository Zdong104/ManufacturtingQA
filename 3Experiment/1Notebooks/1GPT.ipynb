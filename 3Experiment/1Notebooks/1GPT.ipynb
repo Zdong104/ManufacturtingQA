{
 "cells": [
  {
   "cell_type": "code",
   "execution_count": 1,
   "metadata": {},
   "outputs": [
    {
     "name": "stdout",
     "output_type": "stream",
     "text": [
      "Namespace(QAType=2, verbose=True, evidence=False, api_key='sk-n9LlKPTL5ms9htKOjatqCHU7RJsdYcLwVXgVPM6aPdT3BlbkFJ8WSvM3GvJE-jqJ79k8yojNSe4rjCb744mY5ElabzkA', top_k=3, image_top_k=3, retrive=False, interactive=False, model='gpt-4o', rebuild_index=False, document='1Book/3Book_txt_images', chunk_size=600, chunk_overlap=100)\n"
     ]
    }
   ],
   "source": [
    "import argparse\n",
    "import os\n",
    "import pandas as pd\n",
    "import sys\n",
    "\n",
    "parent_dir = os.path.abspath(os.path.join(os.getcwd(), '../2codes'))\n",
    "if parent_dir not in sys.path:\n",
    "    sys.path.insert(0, parent_dir)\n",
    "\n",
    "# load local function\n",
    "from utils import generate_response, get_prompt_by_type, data_processor, save_results_to_folder, build_index, load_index_from_storage\n",
    "\n",
    "def parse_args():\n",
    "    parser = argparse.ArgumentParser()\n",
    "    parser.add_argument(\"--QAType\", default=2, type=int, help=\"Which Type of Question to be asked, we have 1.MCQ, 2.ResponseQ, 3.MathQ, 4.ImageQ\")\n",
    "    parser.add_argument(\"--verbose\", default=True, type=bool, help=\"Print the output or not\")\n",
    "    parser.add_argument(\"--evidence\", default=False, type=bool, help=\"Print and Plot the source of the answer\")\n",
    "    parser.add_argument(\"--api_key\", default=os.getenv(\"OPENAI_API_KEY\"), type=str, help=\"OpenAI API Key\")\n",
    "    parser.add_argument(\"--top_k\", default=3, type=int, help=\"Top k answer to be generated\")\n",
    "    parser.add_argument(\"--image_top_k\", default=3, type=int, help=\"Top k images to be generated\")\n",
    "    parser.add_argument(\"--retrive\", default=False, type=bool, help=\"Retrieve the document or answer_question\")\n",
    "    parser.add_argument(\"--interactive\", default=False, type=bool, help=\"User can input the question or use default\")\n",
    "    parser.add_argument(\"--model\", default=\"gpt-4o\", type=str, help=\"The model to be used, currently supports gpt-4o\")\n",
    "    parser.add_argument(\"--rebuild_index\", default=False, type=bool, help=\"Rebuild the index or not\")\n",
    "    parser.add_argument(\"--document\", default=\"1Book/3Book_txt_images\", type=str, help=\"The document (Book) to be used\")\n",
    "    parser.add_argument(\"--chunk_size\", default=600, type=int, help=\"The chunk size of the document\")\n",
    "    parser.add_argument(\"--chunk_overlap\", default=100, type=int, help=\"The chunk overlap of the document\")\n",
    "\n",
    "    # This line filters out the jupyter notebook arguments\n",
    "    if sys.argv and len(sys.argv) > 1:\n",
    "        return parser.parse_args(args=[])\n",
    "    else:\n",
    "        return parser.parse_args()\n",
    "\n",
    "# Parsing arguments\n",
    "args = parse_args()\n",
    "print(args)\n"
   ]
  },
  {
   "cell_type": "code",
   "execution_count": 2,
   "metadata": {},
   "outputs": [
    {
     "name": "stdout",
     "output_type": "stream",
     "text": [
      "/Users/zihan/Desktop/Manufacturing_QA\n"
     ]
    }
   ],
   "source": [
    "import os\n",
    "os.chdir(\"../../\") # change to main directory\n",
    "!pwd"
   ]
  },
  {
   "cell_type": "code",
   "execution_count": 3,
   "metadata": {},
   "outputs": [],
   "source": [
    "# Set VectorDB path\n",
    "args.MMVectorDB_path = \"1Book/4.High_Quality_WholeBook_storage\"\n",
    "# list of all question folders\n",
    "RQfolder = \"2QuestionsData/1RQ\"\n",
    "MCQfolder = \"2QuestionsData/2MCQ\"\n",
    "ImgQfolder = \"2QuestionsData/3ImgQ/\"\n",
    "MathQfolder = \"2QuestionsData/4MathQ/\""
   ]
  },
  {
   "cell_type": "code",
   "execution_count": 4,
   "metadata": {},
   "outputs": [],
   "source": [
    "def load_csv_files_from_folder(folder_path):\n",
    "    csv_files = [f for f in os.listdir(folder_path) if f.endswith('.csv')]\n",
    "    \n",
    "    # Load all CSVs into dataframes\n",
    "    dfs = [pd.read_csv(os.path.join(folder_path, f), header=0) for f in csv_files]\n",
    "    \n",
    "    if dfs:\n",
    "        args.questions_df = pd.concat(dfs, ignore_index=True)  # Concatenate into one dataframe\n",
    "        \n",
    "        return args\n",
    "    else:\n",
    "        raise ValueError(f\"No CSV files found in folder: {folder_path}\")"
   ]
  },
  {
   "cell_type": "code",
   "execution_count": 8,
   "metadata": {},
   "outputs": [],
   "source": [
    "# Easy handle for quick testing\n",
    "args.QAType = 4\n",
    "if args.QAType == 1:\n",
    "    load_csv_files_from_folder(MCQfolder)    \n",
    "elif args.QAType == 2:\n",
    "    load_csv_files_from_folder(RQfolder)\n",
    "elif args.QAType == 3:\n",
    "    load_csv_files_from_folder(ImgQfolder)\n",
    "elif args.QAType == 4:\n",
    "    load_csv_files_from_folder(MathQfolder)\n",
    "else:\n",
    "    raise ValueError(\"Invalid QAType. Please specify a valid QAType from 1 to 4.\")\n"
   ]
  },
  {
   "cell_type": "markdown",
   "metadata": {},
   "source": [
    "Give a virtualization for data and use small testset for demo"
   ]
  },
  {
   "cell_type": "code",
   "execution_count": 9,
   "metadata": {},
   "outputs": [
    {
     "data": {
      "text/html": [
       "<div>\n",
       "<style scoped>\n",
       "    .dataframe tbody tr th:only-of-type {\n",
       "        vertical-align: middle;\n",
       "    }\n",
       "\n",
       "    .dataframe tbody tr th {\n",
       "        vertical-align: top;\n",
       "    }\n",
       "\n",
       "    .dataframe thead th {\n",
       "        text-align: right;\n",
       "    }\n",
       "</style>\n",
       "<table border=\"1\" class=\"dataframe\">\n",
       "  <thead>\n",
       "    <tr style=\"text-align: right;\">\n",
       "      <th></th>\n",
       "      <th>chapter</th>\n",
       "      <th>question_number</th>\n",
       "      <th>Question</th>\n",
       "      <th>Answer</th>\n",
       "    </tr>\n",
       "  </thead>\n",
       "  <tbody>\n",
       "    <tr>\n",
       "      <th>0</th>\n",
       "      <td>23</td>\n",
       "      <td>23.01</td>\n",
       "      <td>23.01 Flank wear data were collected in a seri...</td>\n",
       "      <td>Solution: (a) and (b) Student exercises. For p...</td>\n",
       "    </tr>\n",
       "    <tr>\n",
       "      <th>1</th>\n",
       "      <td>23</td>\n",
       "      <td>23.02</td>\n",
       "      <td>23.02 Solve Problem 23.1 except that the tool ...</td>\n",
       "      <td>Solution: (a) and (b) Student exercises. For p...</td>\n",
       "    </tr>\n",
       "    <tr>\n",
       "      <th>2</th>\n",
       "      <td>23</td>\n",
       "      <td>23.03</td>\n",
       "      <td>23.03 A series of turning tests were conducted...</td>\n",
       "      <td>Solution: (a)  Using the graph, at 350 ft/min ...</td>\n",
       "    </tr>\n",
       "  </tbody>\n",
       "</table>\n",
       "</div>"
      ],
      "text/plain": [
       "   chapter  question_number  \\\n",
       "0       23            23.01   \n",
       "1       23            23.02   \n",
       "2       23            23.03   \n",
       "\n",
       "                                            Question  \\\n",
       "0  23.01 Flank wear data were collected in a seri...   \n",
       "1  23.02 Solve Problem 23.1 except that the tool ...   \n",
       "2  23.03 A series of turning tests were conducted...   \n",
       "\n",
       "                                              Answer  \n",
       "0  Solution: (a) and (b) Student exercises. For p...  \n",
       "1  Solution: (a) and (b) Student exercises. For p...  \n",
       "2  Solution: (a)  Using the graph, at 350 ft/min ...  "
      ]
     },
     "execution_count": 9,
     "metadata": {},
     "output_type": "execute_result"
    }
   ],
   "source": [
    "args.questions_df = args.questions_df[:3]\n",
    "args.questions_df"
   ]
  },
  {
   "cell_type": "code",
   "execution_count": 10,
   "metadata": {},
   "outputs": [
    {
     "name": "stdout",
     "output_type": "stream",
     "text": [
      "{'type': 'MathQ', 'index': 4, 'content': 'You are a top student in the manufacturing major, and you are taking an exam. You need to solve the following math question based on the context provided and your knowledge of manufacturing calculations. Make sure to clearly show all your steps and explain your reasoning for each step. Provide the final answer at the end.\\n\\n{context_str}\\n\\nSolve the following question:\\n{query_str}\\nAnswer:'}\n",
      "Results saved to: 4Results/MathQ/GPT_results_2024_10_12_20_55.csv\n",
      "Results saved to: 4Results/MathQ/GPT_cot_results_2024_10_12_20_55.csv\n"
     ]
    }
   ],
   "source": [
    "os.environ[\"OPENAI_API_KEY\"] = args.api_key\n",
    "args.GPT_results = []\n",
    "args.GPT_cot_results = []\n",
    "prompt_data = get_prompt_by_type(args)\n",
    "for question in args.questions_df['Question']:\n",
    "    # GPT (no prompt design)\n",
    "    GPT_result = generate_response(args, query=question, image_paths=\"\")\n",
    "    \n",
    "    # GPT_cot (with prompt design)\n",
    "    prompt = prompt_data.format(context_str=\"\", query_str=question)\n",
    "    GPT_cot_result = generate_response(args, query=prompt, image_paths=\"\")\n",
    "    \n",
    "    # Append results to args\n",
    "    args.GPT_results.append(GPT_result)\n",
    "    args.GPT_cot_results.append(GPT_cot_result)\n",
    "\n",
    "# Define a dictionary to loop over results and process/save them\n",
    "results_mapping = {\n",
    "    \"GPT_results\": args.GPT_results,\n",
    "    \"GPT_cot_results\": args.GPT_cot_results,\n",
    "}\n",
    "\n",
    "# Process and save each result type\n",
    "for result_type, result_list in results_mapping.items():\n",
    "    if result_list:  # Only process if the result list is not empty\n",
    "        results_df = data_processor(result_type,result_list, args)\n",
    "        save_results_to_folder(results_df, args, result_type)\n"
   ]
  }
 ],
 "metadata": {
  "kernelspec": {
   "display_name": "base",
   "language": "python",
   "name": "python3"
  },
  "language_info": {
   "codemirror_mode": {
    "name": "ipython",
    "version": 3
   },
   "file_extension": ".py",
   "mimetype": "text/x-python",
   "name": "python",
   "nbconvert_exporter": "python",
   "pygments_lexer": "ipython3",
   "version": "3.11.5"
  }
 },
 "nbformat": 4,
 "nbformat_minor": 2
}
