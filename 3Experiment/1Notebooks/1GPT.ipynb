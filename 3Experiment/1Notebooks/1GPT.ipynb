{
 "cells": [
  {
   "cell_type": "code",
   "execution_count": null,
   "metadata": {},
   "outputs": [],
   "source": [
    "# if load on colab\n",
    "from google.colab import drive\n",
    "drive.mount('/content/drive')\n",
    "import sys\n",
    "sys.path.append('/content/drive/MyDrive/ManufacturingQA/') # Your folder\n",
    "!pip install -r /content/drive/MyDrive/Archive/Main/requirements.txt"
   ]
  },
  {
   "cell_type": "code",
   "execution_count": null,
   "metadata": {},
   "outputs": [],
   "source": [
    "import argparse\n",
    "import os\n",
    "import pandas as pd\n",
    "import sys\n",
    "\n",
    "parent_dir = os.path.abspath(os.path.join(os.getcwd(), '../2codes'))\n",
    "if parent_dir not in sys.path:\n",
    "    sys.path.insert(0, parent_dir)\n",
    "\n",
    "# load local function\n",
    "from utils import generate_response, get_prompt_by_type, data_processor, save_results_to_folder\n",
    "\n",
    "def parse_args():\n",
    "    parser = argparse.ArgumentParser()\n",
    "    parser.add_argument(\"--QAType\", default=2, type=int, help=\"Which Type of Question to be asked, we have 1.MCQ, 2.ResponseQ, 3.MathQ, 4.ImageQ\")\n",
    "    parser.add_argument(\"--verbose\", default=True, type=bool, help=\"Print the output or not\")\n",
    "    parser.add_argument(\"--evidence\", default=False, type=bool, help=\"Print and Plot the source of the answer\")\n",
    "    parser.add_argument(\"--top_k\", default=3, type=int, help=\"Top k answer to be generated\")\n",
    "    parser.add_argument(\"--interactive\", default=False, type=bool, help=\"User can input the question or use default\")\n",
    "    parser.add_argument(\"--model\", default=\"gpt-4o\", type=str, help=\"The model to be used, currently supports gpt-4o\")\n",
    "    parser.add_argument(\"--document\", default=\"1Book/3Book_txt_images\", type=str, help=\"The document (Book) to be used\")\n",
    "\n",
    "    # This line filters out the jupyter notebook arguments\n",
    "    if sys.argv and len(sys.argv) > 1:\n",
    "        return parser.parse_args(args=[])\n",
    "    else:\n",
    "        return parser.parse_args()\n",
    "\n",
    "# Parsing arguments\n",
    "args = parse_args()\n",
    "print(args)\n",
    "# Not printing the output\n",
    "args.api_key=os.getenv(\"OPENAI_API_KEY\")\n",
    "import os\n",
    "os.chdir(\"../../\") # change to main directory\n",
    "!pwd"
   ]
  },
  {
   "cell_type": "code",
   "execution_count": 5,
   "metadata": {},
   "outputs": [],
   "source": [
    "# list of all question folders\n",
    "RQfolder = \"2QuestionsData/1RQ\"\n",
    "MCQfolder = \"2QuestionsData/2MCQ\"\n",
    "ImgQfolder = \"2QuestionsData/3ImgQ/\"\n",
    "MathQfolder = \"2QuestionsData/4MathQ/\""
   ]
  },
  {
   "cell_type": "code",
   "execution_count": 6,
   "metadata": {},
   "outputs": [],
   "source": [
    "def load_csv_files_from_folder(folder_path):\n",
    "    csv_files = [f for f in os.listdir(folder_path) if f.endswith('.csv')]\n",
    "    \n",
    "    # Load all CSVs into dataframes\n",
    "    dfs = [pd.read_csv(os.path.join(folder_path, f), header=0) for f in csv_files]\n",
    "    \n",
    "    if dfs:\n",
    "        args.questions_df = pd.concat(dfs, ignore_index=True)  # Concatenate into one dataframe\n",
    "        \n",
    "        return args\n",
    "    else:\n",
    "        raise ValueError(f\"No CSV files found in folder: {folder_path}\")"
   ]
  },
  {
   "cell_type": "code",
   "execution_count": 7,
   "metadata": {},
   "outputs": [],
   "source": [
    "# Easy handle for quick testing\n",
    "args.QAType = 4\n",
    "if args.QAType == 1:\n",
    "    load_csv_files_from_folder(MCQfolder)    \n",
    "elif args.QAType == 2:\n",
    "    load_csv_files_from_folder(RQfolder)\n",
    "elif args.QAType == 3:\n",
    "    load_csv_files_from_folder(ImgQfolder)\n",
    "elif args.QAType == 4:\n",
    "    load_csv_files_from_folder(MathQfolder)\n",
    "else:\n",
    "    raise ValueError(\"Invalid QAType. Please specify a valid QAType from 1 to 4.\")\n"
   ]
  },
  {
   "cell_type": "markdown",
   "metadata": {},
   "source": [
    "Give a virtualization for data and use small testset for demo"
   ]
  },
  {
   "cell_type": "code",
   "execution_count": 8,
   "metadata": {},
   "outputs": [
    {
     "data": {
      "text/html": [
       "<div>\n",
       "<style scoped>\n",
       "    .dataframe tbody tr th:only-of-type {\n",
       "        vertical-align: middle;\n",
       "    }\n",
       "\n",
       "    .dataframe tbody tr th {\n",
       "        vertical-align: top;\n",
       "    }\n",
       "\n",
       "    .dataframe thead th {\n",
       "        text-align: right;\n",
       "    }\n",
       "</style>\n",
       "<table border=\"1\" class=\"dataframe\">\n",
       "  <thead>\n",
       "    <tr style=\"text-align: right;\">\n",
       "      <th></th>\n",
       "      <th>chapter</th>\n",
       "      <th>question_number</th>\n",
       "      <th>Question</th>\n",
       "      <th>Answer</th>\n",
       "    </tr>\n",
       "  </thead>\n",
       "  <tbody>\n",
       "    <tr>\n",
       "      <th>0</th>\n",
       "      <td>23</td>\n",
       "      <td>23.01</td>\n",
       "      <td>23.01 Flank wear data were collected in a seri...</td>\n",
       "      <td>Solution: (a) and (b) Student exercises. For p...</td>\n",
       "    </tr>\n",
       "    <tr>\n",
       "      <th>1</th>\n",
       "      <td>23</td>\n",
       "      <td>23.02</td>\n",
       "      <td>23.02 Solve Problem 23.1 except that the tool ...</td>\n",
       "      <td>Solution: (a) and (b) Student exercises. For p...</td>\n",
       "    </tr>\n",
       "    <tr>\n",
       "      <th>2</th>\n",
       "      <td>23</td>\n",
       "      <td>23.03</td>\n",
       "      <td>23.03 A series of turning tests were conducted...</td>\n",
       "      <td>Solution: (a)  Using the graph, at 350 ft/min ...</td>\n",
       "    </tr>\n",
       "  </tbody>\n",
       "</table>\n",
       "</div>"
      ],
      "text/plain": [
       "   chapter  question_number  \\\n",
       "0       23            23.01   \n",
       "1       23            23.02   \n",
       "2       23            23.03   \n",
       "\n",
       "                                            Question  \\\n",
       "0  23.01 Flank wear data were collected in a seri...   \n",
       "1  23.02 Solve Problem 23.1 except that the tool ...   \n",
       "2  23.03 A series of turning tests were conducted...   \n",
       "\n",
       "                                              Answer  \n",
       "0  Solution: (a) and (b) Student exercises. For p...  \n",
       "1  Solution: (a) and (b) Student exercises. For p...  \n",
       "2  Solution: (a)  Using the graph, at 350 ft/min ...  "
      ]
     },
     "execution_count": 8,
     "metadata": {},
     "output_type": "execute_result"
    }
   ],
   "source": [
    "args.questions_df = args.questions_df[:3]\n",
    "args.questions_df"
   ]
  },
  {
   "cell_type": "code",
   "execution_count": null,
   "metadata": {},
   "outputs": [],
   "source": [
    "os.environ[\"OPENAI_API_KEY\"] = args.api_key\n",
    "GPT_results = []\n",
    "GPT_cot_results = []\n",
    "prompt_data = get_prompt_by_type(args)\n",
    "for question in args.questions_df['Question']:\n",
    "    # GPT (no prompt design)\n",
    "    GPT_result = generate_response(args, query=question, image_paths=\"\")\n",
    "    \n",
    "    # GPT_cot (with prompt design)\n",
    "    prompt = prompt_data.format(context_str=\"\", query_str=question)\n",
    "    GPT_cot_result = generate_response(args, query=prompt, image_paths=\"\")\n",
    "    \n",
    "    # Append results to args\n",
    "    GPT_results.append(GPT_result)\n",
    "    GPT_cot_results.append(GPT_cot_result)\n",
    "\n",
    "# Define a dictionary to loop over results and process/save them\n",
    "results_mapping = {\n",
    "    \"GPT_results\": GPT_results,\n",
    "    \"GPT_cot_results\": GPT_cot_results,\n",
    "}\n",
    "\n",
    "# Process and save each result type\n",
    "for result_type, result_list in results_mapping.items():\n",
    "    if result_list:  # Only process if the result list is not empty\n",
    "        results_df = data_processor(result_type,result_list, args)\n",
    "        save_results_to_folder(results_df, args, result_type)\n"
   ]
  }
 ],
 "metadata": {
  "kernelspec": {
   "display_name": "base",
   "language": "python",
   "name": "python3"
  },
  "language_info": {
   "codemirror_mode": {
    "name": "ipython",
    "version": 3
   },
   "file_extension": ".py",
   "mimetype": "text/x-python",
   "name": "python",
   "nbconvert_exporter": "python",
   "pygments_lexer": "ipython3",
   "version": "3.11.5"
  }
 },
 "nbformat": 4,
 "nbformat_minor": 2
}
